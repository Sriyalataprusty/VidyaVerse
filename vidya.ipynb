{
 "cells": [
  {
   "cell_type": "code",
   "execution_count": 1,
   "id": "40d51491",
   "metadata": {},
   "outputs": [],
   "source": [
    "import pandas as pd"
   ]
  },
  {
   "cell_type": "code",
   "execution_count": 20,
   "id": "68231003",
   "metadata": {},
   "outputs": [
    {
     "data": {
      "text/html": [
       "<div>\n",
       "<style scoped>\n",
       "    .dataframe tbody tr th:only-of-type {\n",
       "        vertical-align: middle;\n",
       "    }\n",
       "\n",
       "    .dataframe tbody tr th {\n",
       "        vertical-align: top;\n",
       "    }\n",
       "\n",
       "    .dataframe thead th {\n",
       "        text-align: right;\n",
       "    }\n",
       "</style>\n",
       "<table border=\"1\" class=\"dataframe\">\n",
       "  <thead>\n",
       "    <tr style=\"text-align: right;\">\n",
       "      <th></th>\n",
       "      <th>campaign_id</th>\n",
       "      <th>ad_date</th>\n",
       "      <th>platform</th>\n",
       "      <th>ad_spend</th>\n",
       "      <th>clicks</th>\n",
       "      <th>impressions</th>\n",
       "    </tr>\n",
       "  </thead>\n",
       "  <tbody>\n",
       "    <tr>\n",
       "      <th>0</th>\n",
       "      <td>1000</td>\n",
       "      <td>2024-01-01</td>\n",
       "      <td>insta</td>\n",
       "      <td>21854.31</td>\n",
       "      <td>1360</td>\n",
       "      <td>25840</td>\n",
       "    </tr>\n",
       "    <tr>\n",
       "      <th>1</th>\n",
       "      <td>1001</td>\n",
       "      <td>2024-01-08</td>\n",
       "      <td>insta</td>\n",
       "      <td>37939.73</td>\n",
       "      <td>4272</td>\n",
       "      <td>38448</td>\n",
       "    </tr>\n",
       "    <tr>\n",
       "      <th>2</th>\n",
       "      <td>1002</td>\n",
       "      <td>2024-01-15</td>\n",
       "      <td>insta</td>\n",
       "      <td>12020.84</td>\n",
       "      <td>966</td>\n",
       "      <td>10626</td>\n",
       "    </tr>\n",
       "    <tr>\n",
       "      <th>3</th>\n",
       "      <td>1003</td>\n",
       "      <td>2024-01-22</td>\n",
       "      <td>insta</td>\n",
       "      <td>7613.76</td>\n",
       "      <td>3944</td>\n",
       "      <td>31552</td>\n",
       "    </tr>\n",
       "    <tr>\n",
       "      <th>4</th>\n",
       "      <td>1004</td>\n",
       "      <td>2024-01-29</td>\n",
       "      <td>insta</td>\n",
       "      <td>11429.01</td>\n",
       "      <td>630</td>\n",
       "      <td>6300</td>\n",
       "    </tr>\n",
       "  </tbody>\n",
       "</table>\n",
       "</div>"
      ],
      "text/plain": [
       "   campaign_id     ad_date platform  ad_spend  clicks  impressions\n",
       "0         1000  2024-01-01    insta  21854.31    1360        25840\n",
       "1         1001  2024-01-08    insta  37939.73    4272        38448\n",
       "2         1002  2024-01-15    insta  12020.84     966        10626\n",
       "3         1003  2024-01-22    insta   7613.76    3944        31552\n",
       "4         1004  2024-01-29    insta  11429.01     630         6300"
      ]
     },
     "execution_count": 20,
     "metadata": {},
     "output_type": "execute_result"
    }
   ],
   "source": [
    "df = pd.read_csv(\"campaign_performance.csv\")\n",
    "df.head()"
   ]
  },
  {
   "cell_type": "code",
   "execution_count": 3,
   "id": "94dc3dc3",
   "metadata": {},
   "outputs": [
    {
     "data": {
      "text/plain": [
       "platform\n",
       "insta            6\n",
       "LinkedIn Ads     6\n",
       "YT               4\n",
       "LI               4\n",
       "YouTube          3\n",
       "YouTube Ads      3\n",
       "Instagram        2\n",
       "Instagram Ads    2\n",
       "Name: count, dtype: int64"
      ]
     },
     "execution_count": 3,
     "metadata": {},
     "output_type": "execute_result"
    }
   ],
   "source": [
    "df['platform'].value_counts()"
   ]
  },
  {
   "cell_type": "code",
   "execution_count": 21,
   "id": "99cef577",
   "metadata": {},
   "outputs": [],
   "source": [
    "df['platform'] = df['platform'].replace({'insta':'Instagram','Instagram Ads':'Instagram','YT':'YouTube','YouTube Ads':'YouTube','LI':'LinkedIn','LinkedIn Ads':'LinkedIn'})"
   ]
  },
  {
   "cell_type": "code",
   "execution_count": 22,
   "id": "d9e93c9c",
   "metadata": {},
   "outputs": [
    {
     "data": {
      "text/plain": [
       "platform\n",
       "Instagram    10\n",
       "YouTube      10\n",
       "LinkedIn     10\n",
       "Name: count, dtype: int64"
      ]
     },
     "execution_count": 22,
     "metadata": {},
     "output_type": "execute_result"
    }
   ],
   "source": [
    "df['platform'].value_counts()"
   ]
  },
  {
   "cell_type": "code",
   "execution_count": 23,
   "id": "59ba67d9",
   "metadata": {},
   "outputs": [],
   "source": [
    "df.to_csv('campaign_cleaned.csv', index= False)"
   ]
  }
 ],
 "metadata": {
  "kernelspec": {
   "display_name": "Python 3",
   "language": "python",
   "name": "python3"
  },
  "language_info": {
   "codemirror_mode": {
    "name": "ipython",
    "version": 3
   },
   "file_extension": ".py",
   "mimetype": "text/x-python",
   "name": "python",
   "nbconvert_exporter": "python",
   "pygments_lexer": "ipython3",
   "version": "3.13.3"
  }
 },
 "nbformat": 4,
 "nbformat_minor": 5
}
